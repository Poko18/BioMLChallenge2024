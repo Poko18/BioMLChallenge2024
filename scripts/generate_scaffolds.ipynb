{
 "cells": [
  {
   "cell_type": "code",
   "execution_count": 17,
   "metadata": {},
   "outputs": [],
   "source": [
    "import os\n",
    "import random\n",
    "\n",
    "from binder_blueprints import BinderBlueprints\n",
    "\n",
    "# Define parameters\n",
    "BINDER_LENGTH = 80\n",
    "NUM_BLUEPRINTS = 50\n",
    "ELEMENT_VARIATIONS = [\"HHH\", \"HHHH\", \"HEEHE\"] # \"HHHHH\"\n",
    "LINKER_LENGTH_RANGE = (3, 4)\n",
    "ELEMENT_LENGTH_VARIATION_RANGE = (-1, 2)\n",
    "OUTPUT_DIR = \"../data/binder_blueprints\""
   ]
  },
  {
   "cell_type": "code",
   "execution_count": 18,
   "metadata": {},
   "outputs": [
    {
     "name": "stdout",
     "output_type": "stream",
     "text": [
      "Saved binder blueprint 1 with elements HHHHH\n",
      "Saved binder blueprint 2 with elements HHHHH\n",
      "Saved binder blueprint 3 with elements HHHH\n",
      "Saved binder blueprint 4 with elements HHHHH\n",
      "Saved binder blueprint 5 with elements HHH\n",
      "Saved binder blueprint 6 with elements HHHH\n",
      "Saved binder blueprint 7 with elements HHHH\n",
      "Saved binder blueprint 8 with elements HHHH\n",
      "Saved binder blueprint 9 with elements HHHH\n",
      "Saved binder blueprint 10 with elements HHHH\n",
      "Saved binder blueprint 11 with elements HHHH\n",
      "Saved binder blueprint 12 with elements HHH\n",
      "Saved binder blueprint 13 with elements HHH\n",
      "Saved binder blueprint 14 with elements HHH\n",
      "Saved binder blueprint 15 with elements HHH\n",
      "Saved binder blueprint 16 with elements HHH\n",
      "Saved binder blueprint 17 with elements HHHHH\n",
      "Saved binder blueprint 18 with elements HHHH\n",
      "Saved binder blueprint 19 with elements HHH\n",
      "Saved binder blueprint 20 with elements HHH\n",
      "Saved binder blueprint 21 with elements HHHH\n",
      "Saved binder blueprint 22 with elements HHH\n",
      "Saved binder blueprint 23 with elements HHHHH\n",
      "Saved binder blueprint 24 with elements HHHHH\n",
      "Saved binder blueprint 25 with elements HHHH\n",
      "Saved binder blueprint 26 with elements HHH\n",
      "Saved binder blueprint 27 with elements HHHHH\n",
      "Saved binder blueprint 28 with elements HHHHH\n",
      "Saved binder blueprint 29 with elements HHHHH\n",
      "Saved binder blueprint 30 with elements HHH\n",
      "Saved binder blueprint 31 with elements HHH\n",
      "Saved binder blueprint 32 with elements HHH\n",
      "Saved binder blueprint 33 with elements HHHHH\n",
      "Saved binder blueprint 34 with elements HHH\n",
      "Saved binder blueprint 35 with elements HHH\n",
      "Saved binder blueprint 36 with elements HHHH\n",
      "Saved binder blueprint 37 with elements HHH\n",
      "Saved binder blueprint 38 with elements HHH\n",
      "Saved binder blueprint 39 with elements HHHHH\n",
      "Saved binder blueprint 40 with elements HHHHH\n",
      "Saved binder blueprint 41 with elements HHHH\n",
      "Saved binder blueprint 42 with elements HHH\n",
      "Saved binder blueprint 43 with elements HHHHH\n",
      "Saved binder blueprint 44 with elements HHH\n",
      "Saved binder blueprint 45 with elements HHHHH\n",
      "Saved binder blueprint 46 with elements HHH\n",
      "Saved binder blueprint 47 with elements HHHH\n",
      "Saved binder blueprint 48 with elements HHH\n",
      "Saved binder blueprint 49 with elements HHHH\n",
      "Saved binder blueprint 50 with elements HHHH\n"
     ]
    }
   ],
   "source": [
    "os.makedirs(OUTPUT_DIR, exist_ok=True)\n",
    "\n",
    "for i in range(NUM_BLUEPRINTS):\n",
    "    elements = random.choice(ELEMENT_VARIATIONS)\n",
    "    linker_lengths = [\n",
    "        random.randint(*LINKER_LENGTH_RANGE) for _ in range(len(elements) - 1)\n",
    "    ]\n",
    "    base_length = BINDER_LENGTH - sum(linker_lengths)\n",
    "    element_counts = {\"H\": elements.count(\"H\"), \"E\": elements.count(\"E\")}\n",
    "    element_lengths = []\n",
    "\n",
    "    for sse in elements:\n",
    "        if element_counts[sse] > 0:\n",
    "            avg_length = base_length // element_counts[sse]\n",
    "            length_variation = random.randint(*ELEMENT_LENGTH_VARIATION_RANGE)\n",
    "            element_length = max(1, avg_length + length_variation)\n",
    "            element_lengths.append(element_length)\n",
    "            base_length -= element_length\n",
    "            element_counts[sse] -= 1\n",
    "\n",
    "    blueprint = BinderBlueprints(\n",
    "        elements=elements,\n",
    "        size=BINDER_LENGTH,\n",
    "        element_lengths=element_lengths,\n",
    "        linker_lengths=linker_lengths,\n",
    "    )\n",
    "    blueprint.save_adj_sse(output_dir=OUTPUT_DIR)\n",
    "    print(f\"Saved binder blueprint {i + 1} with elements {elements}\")"
   ]
  },
  {
   "cell_type": "code",
   "execution_count": null,
   "metadata": {},
   "outputs": [],
   "source": []
  }
 ],
 "metadata": {
  "kernelspec": {
   "display_name": "ctr",
   "language": "python",
   "name": "python3"
  },
  "language_info": {
   "codemirror_mode": {
    "name": "ipython",
    "version": 3
   },
   "file_extension": ".py",
   "mimetype": "text/x-python",
   "name": "python",
   "nbconvert_exporter": "python",
   "pygments_lexer": "ipython3",
   "version": "3.12.4"
  }
 },
 "nbformat": 4,
 "nbformat_minor": 2
}
